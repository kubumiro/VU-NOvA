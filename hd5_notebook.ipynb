{
 "cells": [
  {
   "cell_type": "code",
   "execution_count": 3,
   "metadata": {},
   "outputs": [],
   "source": [
    "import glob\n",
    "import h5py\n",
    "import numpy as np\n",
    "import pandas as pd\n",
    "from matplotlib import pyplot as plt\n",
    "\n",
    "h5file = h5py.File('fardet_genie_nonswap_genierw_fhc_v08_1000_r00022161_s07_c000_N18-10-09_v1_20170915_165621_sim.h5caf.h5')\n",
    "\n",
    "\n",
    "\n",
    "#h5file = h5py.File('fardet_genie_fluxswap_genierw_fhc_v08_1000_r00025412_s09_c000_N19-03-11_v1_20170915_165654_sim.h5caf.h5')\n",
    "\n",
    "def get_maps(h5file):\n",
    "   \n",
    "    pm = np.empty((0, 2, 80, 100, 1), dtype=np.uint8)\n",
    "    lb = np.empty((0), dtype=np.uint8)\n",
    "\n",
    "    flatmap = h5file.get('rec.training.cvnmaps').get('cvnmap')\n",
    "    pmaps = np.reshape(flatmap, (-1, 2, 100, 80, 1))\n",
    "    pmaps = np.transpose(pmaps, (0, 1, 3, 2, 4))\n",
    "    \n",
    "    return pmaps    "
   ]
  },
  {
   "cell_type": "code",
   "execution_count": 4,
   "metadata": {},
   "outputs": [
    {
     "data": {
      "text/plain": [
       "<HDF5 dataset \"cvnmap\": shape (67086, 16000), type \"|u1\">"
      ]
     },
     "execution_count": 4,
     "metadata": {},
     "output_type": "execute_result"
    }
   ],
   "source": [
    "h5file.get('rec.training.cvnmaps').get('cvnmap')"
   ]
  },
  {
   "cell_type": "code",
   "execution_count": 5,
   "metadata": {},
   "outputs": [],
   "source": [
    "pmaps0 = get_maps(h5file)"
   ]
  },
  {
   "cell_type": "code",
   "execution_count": 77,
   "metadata": {},
   "outputs": [],
   "source": [
    "def get_labels(h5file):\n",
    "        pdgs = h5file.get('rec.mc.nu').get('pdg').value\n",
    "        iscc = h5file.get('rec.mc.nu').get('iscc').value\n",
    "\n",
    "        mcrun = h5file.get('rec.mc.nu').get('run').value\n",
    "        mcsubrun = h5file.get('rec.mc.nu').get('subrun').value\n",
    "        mcevt = h5file.get('rec.mc.nu').get('evt').value\n",
    "        mcsubevt = h5file.get('rec.mc.nu').get('subevt').value\n",
    "\n",
    "        prun = h5file.get('rec.training.cvnmaps').get('run').value\n",
    "        psubrun = h5file.get('rec.training.cvnmaps').get('subrun').value\n",
    "        pevt = h5file.get('rec.training.cvnmaps').get('evt').value\n",
    "        psubevt = h5file.get('rec.training.cvnmaps').get('subevt').value\n",
    "\n",
    "        mcd = {'run': np.char.mod('%d', mcrun[:, 0]),\n",
    "               'subrun': np.char.mod('%d', mcsubrun[:, 0]),\n",
    "               'evt': np.char.mod('%d', mcevt[:, 0]),\n",
    "               'subevt': np.char.mod('%d', mcsubevt[:, 0]),\n",
    "               'iscc': iscc[:, 0],\n",
    "               'pdg': pdgs[:, 0]}\n",
    "\n",
    "        mcdf = pd.DataFrame(data=mcd)\n",
    "\n",
    "        pmd = {'run': np.char.mod('%d', prun[:, 0]),\n",
    "               'subrun': np.char.mod('%d', psubrun[:, 0]),\n",
    "               'evt': np.char.mod('%d', pevt[:, 0]),\n",
    "               'subevt': np.char.mod('%d', psubevt[:, 0]),\n",
    "               'label': np.repeat(2, len(prun[:, 0]))}  #<----\n",
    "\n",
    "        pmdf = pd.DataFrame(data=pmd)\n",
    "\n",
    "        zflrun = pmdf.run.map(len).max()\n",
    "        zflsubrun = pmdf.subrun.map(len).max()\n",
    "        zflevt = pmdf.evt.map(len).max()\n",
    "        zflsubevt = pmdf.subevt.map(len).max()\n",
    "\n",
    "        mcdf['run'] = mcdf['run'].apply(lambda x: x.zfill(zflrun))\n",
    "        mcdf['subrun'] = mcdf['subrun'].apply(lambda x: x.zfill(zflsubrun))\n",
    "        mcdf['evt'] = mcdf['evt'].apply(lambda x: x.zfill(zflevt))\n",
    "        mcdf['subevt'] = mcdf['subevt'].apply(lambda x: x.zfill(zflsubevt))\n",
    "        mcdf['key'] = mcdf.run + mcdf.subrun + mcdf.evt + mcdf.subevt\n",
    "\n",
    "        pmdf['run'] = pmdf['run'].apply(lambda x: x.zfill(zflrun))\n",
    "        pmdf['subrun'] = pmdf['subrun'].apply(lambda x: x.zfill(zflsubrun))\n",
    "        pmdf['evt'] = pmdf['evt'].apply(lambda x: x.zfill(zflevt))\n",
    "        pmdf['subevt'] = pmdf['subevt'].apply(lambda x: x.zfill(zflsubevt))\n",
    "        pmdf['key'] = pmdf.run + pmdf.subrun + pmdf.evt + pmdf.subevt\n",
    "\n",
    "        nudf = pmdf.loc[pmdf.key.isin(mcdf.key)]\n",
    "        cosmicdf = pmdf.loc[~pmdf.key.isin(mcdf.key)]\n",
    "\n",
    "        nudf = pd.merge(nudf, mcdf)\n",
    "\n",
    "        nudf.loc[abs(nudf.pdg) == 12, 'label'] = 1\n",
    "        nudf.loc[abs(nudf.pdg) == 14, 'label'] = 0\n",
    "        #nudf.loc[abs(nudf.pdg) == 16, 'label'] = 4 \n",
    "        nudf.loc[nudf.iscc == 0, 'label'] = 3\n",
    "\n",
    "        nudf = nudf.drop(['pdg', 'iscc'], axis=1)  # Drop to concat with cosmics\n",
    "\n",
    "        # Glue the neutrino and cosmic dfs back together\n",
    "        df = pd.concat([nudf, cosmicdf])\n",
    "\n",
    "        df = df.sort_values(['key'], ascending=True)\n",
    "\n",
    "        return df"
   ]
  },
  {
   "cell_type": "code",
   "execution_count": 138,
   "metadata": {},
   "outputs": [],
   "source": [
    "#df.to_csv('test.csv', sep=';')"
   ]
  },
  {
   "cell_type": "code",
   "execution_count": 78,
   "metadata": {},
   "outputs": [],
   "source": [
    "df0 = get_labels(h5file)"
   ]
  },
  {
   "cell_type": "code",
   "execution_count": 37,
   "metadata": {},
   "outputs": [],
   "source": [
    "#df0"
   ]
  },
  {
   "cell_type": "code",
   "execution_count": 79,
   "metadata": {},
   "outputs": [],
   "source": [
    "labels0 = list(df0['label'])"
   ]
  },
  {
   "cell_type": "code",
   "execution_count": 80,
   "metadata": {},
   "outputs": [],
   "source": [
    "indexes = [index for index in range(len(labels0)) if labels0[index] == 3]"
   ]
  },
  {
   "cell_type": "code",
   "execution_count": 81,
   "metadata": {},
   "outputs": [],
   "source": [
    "df = df0[df0.label != 3]"
   ]
  },
  {
   "cell_type": "code",
   "execution_count": 47,
   "metadata": {},
   "outputs": [],
   "source": [
    "#x=df0\n",
    "#new_df = x[~x.ind.isin(indexes)]\n",
    "#new_df"
   ]
  },
  {
   "cell_type": "code",
   "execution_count": 82,
   "metadata": {},
   "outputs": [],
   "source": [
    "pmaps=np.delete(pmaps0, indexes, axis = 0)"
   ]
  },
  {
   "cell_type": "markdown",
   "metadata": {},
   "source": [
    "Výsledný input --> (viewXY,viewYZ)\n",
    "Výsledné labely --> labels"
   ]
  },
  {
   "cell_type": "code",
   "execution_count": 83,
   "metadata": {},
   "outputs": [
    {
     "data": {
      "text/plain": [
       "(66939, 2, 80, 100, 1)"
      ]
     },
     "execution_count": 83,
     "metadata": {},
     "output_type": "execute_result"
    }
   ],
   "source": [
    "pmaps.shape"
   ]
  },
  {
   "cell_type": "code",
   "execution_count": 61,
   "metadata": {},
   "outputs": [
    {
     "data": {
      "text/plain": [
       "(66939, 6)"
      ]
     },
     "execution_count": 61,
     "metadata": {},
     "output_type": "execute_result"
    }
   ],
   "source": [
    "df.shape"
   ]
  },
  {
   "cell_type": "code",
   "execution_count": 84,
   "metadata": {},
   "outputs": [],
   "source": [
    "labels=list(df0['label'])"
   ]
  },
  {
   "cell_type": "code",
   "execution_count": 85,
   "metadata": {},
   "outputs": [],
   "source": [
    "viewXY=pmaps[:,0]\n",
    "viewYZ=pmaps[:,1]\n",
    "labels=df['label']"
   ]
  },
  {
   "cell_type": "code",
   "execution_count": 86,
   "metadata": {},
   "outputs": [],
   "source": [
    "labels=list(labels)"
   ]
  },
  {
   "cell_type": "code",
   "execution_count": 87,
   "metadata": {},
   "outputs": [],
   "source": [
    "labels_tr=list( labels[i] for i in [1,2,3,4,5,6,7,8,9,10,11,12,13,14,15,16,17,18,19,20,21,22,23,24,25,26,348,415,541,688,887,962,1019,1073,8534,79,473,7332,8472] )"
   ]
  },
  {
   "cell_type": "code",
   "execution_count": 88,
   "metadata": {},
   "outputs": [
    {
     "data": {
      "text/plain": [
       "(66939, 2, 80, 100, 1)"
      ]
     },
     "execution_count": 88,
     "metadata": {},
     "output_type": "execute_result"
    }
   ],
   "source": [
    "pmaps.shape"
   ]
  },
  {
   "cell_type": "code",
   "execution_count": 89,
   "metadata": {},
   "outputs": [],
   "source": [
    "indices = [1,2,3,4,5,6,7,8,9,10,11,12,13,14,15,16,17,18,19,20,21,22,23,24,25,26,348,415,541,688,887,962,1019,1073,8534,79,473,7332,8472]"
   ]
  },
  {
   "cell_type": "code",
   "execution_count": 90,
   "metadata": {},
   "outputs": [],
   "source": [
    "pmaps_tr=pmaps[indices]"
   ]
  },
  {
   "cell_type": "code",
   "execution_count": 91,
   "metadata": {},
   "outputs": [
    {
     "data": {
      "text/plain": [
       "(39, 2, 80, 100, 1)"
      ]
     },
     "execution_count": 91,
     "metadata": {},
     "output_type": "execute_result"
    }
   ],
   "source": [
    "pmaps_tr.shape"
   ]
  },
  {
   "cell_type": "code",
   "execution_count": 92,
   "metadata": {},
   "outputs": [],
   "source": [
    "import pandas as pd\n",
    "np.savetxt('labels_tr.csv', labels_tr , delimiter=',', fmt='%s')"
   ]
  },
  {
   "cell_type": "markdown",
   "metadata": {},
   "source": [
    "# Print Pixelmaps"
   ]
  },
  {
   "cell_type": "code",
   "execution_count": 93,
   "metadata": {},
   "outputs": [],
   "source": [
    "def print_pixelmap(pmaps,id,view):\n",
    "        result = (pmaps[id][view])[:, :, 0]\n",
    "        plt.imshow(result,cmap='Oranges')\n",
    "        plt.show()\n",
    "        return 0"
   ]
  },
  {
   "cell_type": "code",
   "execution_count": 94,
   "metadata": {},
   "outputs": [
    {
     "data": {
      "text/plain": [
       "39"
      ]
     },
     "execution_count": 94,
     "metadata": {},
     "output_type": "execute_result"
    }
   ],
   "source": [
    "len(pmaps_tr)"
   ]
  },
  {
   "cell_type": "code",
   "execution_count": 95,
   "metadata": {},
   "outputs": [
    {
     "data": {
      "image/png": "[encoded data removed]",
      "text/plain": [
       "<matplotlib.figure.Figure at 0x200d7335400>"
      ]
     },
     "metadata": {},
     "output_type": "display_data"
    },
    {
     "data": {
      "text/plain": [
       "0"
      ]
     },
     "execution_count": 95,
     "metadata": {},
     "output_type": "execute_result"
    }
   ],
   "source": [
    "print_pixelmap(pmaps_tr,38,0)"
   ]
  },
  {
   "cell_type": "markdown",
   "metadata": {},
   "source": [
    "# Input and Output Data preparation"
   ]
  },
  {
   "cell_type": "markdown",
   "metadata": {},
   "source": [
    "Preprocessing of a small set of data for parameter tuning "
   ]
  },
  {
   "cell_type": "code",
   "execution_count": 96,
   "metadata": {},
   "outputs": [],
   "source": [
    "from keras.utils import np_utils\n",
    "\n",
    "ind_tr  = [0,1,2,3,4,5,6,7,8,9,10,11,12,13,14,15,16,17,28,29,30,31,32,33,34,35,36,37]\n",
    "ind_ts = [18,19,20,21,22,23,24,25,26,27,38]"
   ]
  },
  {
   "cell_type": "code",
   "execution_count": 326,
   "metadata": {},
   "outputs": [],
   "source": [
    "XY_train0 = pmaps_tr[ind_tr,0]\n",
    "YZ_train0 = pmaps_tr[ind_tr,1]\n",
    "\n",
    "XY_test0 = pmaps_tr[ind_ts,0]\n",
    "YZ_test0 = pmaps_tr[ind_ts,1]\n",
    "\n",
    "\n",
    "Y_train0 =list( labels_tr[i] for i in ind_tr )\n",
    "Y_test0 =list( labels_tr[i] for i in ind_ts )"
   ]
  },
  {
   "cell_type": "code",
   "execution_count": 327,
   "metadata": {},
   "outputs": [],
   "source": [
    "XY_train = XY_train0.reshape(XY_train0.shape[0], 1, 100, 80).astype('float32')/255\n",
    "YZ_train = YZ_train0.reshape(YZ_train0.shape[0], 1, 100, 80).astype('float32')/255\n",
    "Y_train = np_utils.to_categorical(Y_train0,3)\n",
    "           \n",
    "XY_test = XY_test0.reshape(XY_test0.shape[0], 1, 100, 80).astype('float32')/255\n",
    "YZ_test = YZ_test0.reshape(YZ_test0.shape[0], 1, 100, 80).astype('float32')/255\n",
    "Y_test = np_utils.to_categorical(Y_test0,3)"
   ]
  },
  {
   "cell_type": "markdown",
   "metadata": {},
   "source": [
    "Now let's prepare the final data set"
   ]
  },
  {
   "cell_type": "code",
   "execution_count": 358,
   "metadata": {},
   "outputs": [],
   "source": [
    "from sklearn.model_selection import train_test_split\n",
    "\n",
    "pmaps_train, pmaps_test, y_train, y_test = train_test_split(pmaps, labels, test_size=1/10, random_state=42)"
   ]
  },
  {
   "cell_type": "code",
   "execution_count": 362,
   "metadata": {},
   "outputs": [
    {
     "data": {
      "text/plain": [
       "6694"
      ]
     },
     "execution_count": 362,
     "metadata": {},
     "output_type": "execute_result"
    }
   ],
   "source": []
  },
  {
   "cell_type": "code",
   "execution_count": 346,
   "metadata": {},
   "outputs": [],
   "source": [
    "X1_train0 = pmaps_train[:,0]\n",
    "X2_train0 = pmaps_train[:,1]\n",
    "\n",
    "X1_test0 = pmaps_test[:,0]\n",
    "X2_test0 = pmaps_test[:,1]"
   ]
  },
  {
   "cell_type": "code",
   "execution_count": 349,
   "metadata": {},
   "outputs": [],
   "source": [
    "X1_train = X1_train0.reshape(X1_train0.shape[0], 1, 100, 80).astype('float32')/255\n",
    "X2_train = X2_train0.reshape(X2_train0.shape[0], 1, 100, 80).astype('float32')/255\n",
    "y_train = np_utils.to_categorical(y_train,3)\n",
    "           \n",
    "X1_test = X1_test0.reshape(X1_test0.shape[0], 1, 100, 80).astype('float32')/255\n",
    "X2_test = X2_test0.reshape(X2_test0.shape[0], 1, 100, 80).astype('float32')/255\n",
    "y_test = np_utils.to_categorical(y_test,3)"
   ]
  },
  {
   "cell_type": "markdown",
   "metadata": {},
   "source": [
    "# Model: Simple CVN by Aris. Tsaris"
   ]
  },
  {
   "cell_type": "code",
   "execution_count": 328,
   "metadata": {},
   "outputs": [],
   "source": [
    "import os\n",
    "\n",
    "# Keras utilities\n",
    "import keras\n",
    "from keras.models import model_from_json, load_model\n",
    "from keras.optimizers import SGD\n",
    "\n",
    "import h5py\n",
    "import numpy as np\n",
    "\n",
    "# Local models\n",
    "\n",
    "from keras.models import Sequential\n",
    "from keras.models import Model\n",
    "from keras.layers import Activation,Input,Dense,Dropout,BatchNormalization,Conv2D,MaxPooling2D,MaxPooling3D,AveragePooling2D,concatenate,Flatten\n",
    "from keras.layers.convolutional import Conv2D,MaxPooling2D,AveragePooling2D\n",
    "from keras.regularizers import l2\n",
    "import numpy as np\n",
    "seed = 7\n",
    "np.random.seed(seed)\n"
   ]
  },
  {
   "cell_type": "code",
   "execution_count": 329,
   "metadata": {},
   "outputs": [],
   "source": [
    "def Conv2d_All(x, nb_filter,kernel_size, padding='same',strides=(1,1),name=None):\n",
    "    if name is not None:\n",
    "        bn_name = name + '_bn'\n",
    "        conv_name = name + '_conv'\n",
    "    else:\n",
    "        bn_name = None\n",
    "        conv_name = None\n",
    "        \n",
    "    x = Conv2D(nb_filter,kernel_size,padding=padding,strides=strides,activation='relu',name=conv_name)(x)\n",
    "    x = BatchNormalization(axis=3,name=bn_name)(x)\n",
    "    return x\n",
    "\n",
    "def Inception(x,nb_filter):\n",
    "    b1x1 = Conv2d_All(x,nb_filter,(1,1), padding='same',strides=(1,1),name=None)\n",
    "    b3x3 = Conv2d_All(x,nb_filter,(1,1), padding='same',strides=(1,1),name=None)\n",
    "    b3x3 = Conv2d_All(b3x3,nb_filter,(3,3), padding='same',strides=(1,1),name=None)\n",
    "    b5x5 = Conv2d_All(x,nb_filter,(1,1), padding='same',strides=(1,1),name=None)\n",
    "    b5x5 = Conv2d_All(b5x5,nb_filter,(1,1), padding='same',strides=(1,1),name=None)\n",
    "    bpool = MaxPooling2D(pool_size=(3,3),strides=(1,1),padding='same')(x)\n",
    "    bpool = Conv2d_All(bpool,nb_filter,(1,1),padding='same',strides=(1,1),name=None)\n",
    "    x = concatenate([b1x1,b3x3,b5x5,bpool],axis=3)\n",
    "    return x\n",
    "\n",
    "def CVN(num_classes):\n",
    "    input1 = Input(shape=(1, 100,80), dtype='float32', name='input1')\n",
    "    input2 = Input(shape=(1, 100,80), dtype='float32', name='input2')\n",
    "\n",
    "    x1 = Conv2d_All(input1,64,(7,7),strides=(2,2),padding='same')\n",
    "    x1 = MaxPooling2D(pool_size=(3,3),strides=(2,2),padding='same')(x1)\n",
    "    x1 = Conv2d_All(x1,192,(3,3),strides=(1,1),padding='same')\n",
    "    x1 = MaxPooling2D(pool_size=(3,3),strides=(2,2),padding='same')(x1)\n",
    "    x1 = Inception(x1,64)\n",
    "    x1 = Inception(x1,120)\n",
    "    x1 = MaxPooling2D(pool_size=(3,3),strides=(2,2),padding='same')(x1)\n",
    "    x1 = Inception(x1,128)\n",
    "    x1 = AveragePooling2D(pool_size=(7,7),strides=(7,7),padding='same')(x1)\n",
    "    x1 = Flatten()(x1)\n",
    "    x1 = Dense(512,activation='relu', W_regularizer=l2(0.1))(x1)\n",
    "\n",
    "    x2 = Conv2d_All(input2,64,(7,7),strides=(2,2),padding='same')\n",
    "    x2 = MaxPooling2D(pool_size=(3,3),strides=(2,2),padding='same')(x2)\n",
    "    x2 = Conv2d_All(x2,192,(3,3),strides=(1,1),padding='same')\n",
    "    x2 = MaxPooling2D(pool_size=(3,3),strides=(2,2),padding='same')(x2)\n",
    "    x2 = Inception(x2,64)\n",
    "    x2 = Inception(x2,120)\n",
    "    x2 = MaxPooling2D(pool_size=(3,3),strides=(2,2),padding='same')(x2)\n",
    "    x2 = Inception(x2,128)\n",
    "    x2 = AveragePooling2D(pool_size=(7,7),strides=(7,7),padding='same')(x2)\n",
    "    x2 = Flatten()(x2)\n",
    "    x2 = Dense(512,activation='relu', W_regularizer=l2(0.1))(x2)\n",
    "\n",
    "    x = concatenate([x1, x2])\n",
    "    x   = Dense(1024, activation='relu')(x)\n",
    "    out = Dense(num_classes, activation='softmax', name='out')(x)\n",
    "    model = Model(inputs=[input1, input2], outputs=[out])\n",
    "\n",
    "    return model"
   ]
  },
  {
   "cell_type": "code",
   "execution_count": 313,
   "metadata": {},
   "outputs": [
    {
     "name": "stderr",
     "output_type": "stream",
     "text": [
      "c:\\users\\user\\appdata\\local\\programs\\python\\python35\\lib\\site-packages\\ipykernel_launcher.py:38: UserWarning: Update your `Dense` call to the Keras 2 API: `Dense(512, kernel_regularizer=<keras.reg..., activation=\"relu\")`\n",
      "c:\\users\\user\\appdata\\local\\programs\\python\\python35\\lib\\site-packages\\ipykernel_launcher.py:50: UserWarning: Update your `Dense` call to the Keras 2 API: `Dense(512, kernel_regularizer=<keras.reg..., activation=\"relu\")`\n"
     ]
    }
   ],
   "source": [
    "from keras.optimizers import SGD\n",
    "from keras.utils import np_utils\n",
    "\n",
    "\n",
    "model = CVN(3)\n",
    "learning_rate = 0.02\n",
    "decay_rate = 0.1\n",
    "momentum = 0.9\n",
    "opt = SGD(lr=learning_rate, momentum=momentum, decay=decay_rate, nesterov=False)\n",
    "model.compile(loss='categorical_crossentropy',optimizer=opt,metrics=['acc','top_k_categorical_accuracy'])\n"
   ]
  },
  {
   "cell_type": "code",
   "execution_count": 314,
   "metadata": {},
   "outputs": [
    {
     "name": "stdout",
     "output_type": "stream",
     "text": [
      "Train on 28 samples, validate on 11 samples\n"
     ]
    },
    {
     "name": "stderr",
     "output_type": "stream",
     "text": [
      "Exception ignored in: <bound method ScopedTFStatus.__del__ of <tensorflow.python.framework.c_api_util.ScopedTFStatus object at 0x0000020087412B70>>\n",
      "Traceback (most recent call last):\n",
      "  File \"c:\\users\\user\\appdata\\local\\programs\\python\\python35\\lib\\site-packages\\tensorflow\\python\\framework\\c_api_util.py\", line 36, in __del__\n",
      "    c_api.TF_DeleteStatus(self.status)"
     ]
    },
    {
     "name": "stdout",
     "output_type": "stream",
     "text": [
      "Epoch 1/5\n",
      "28/28 [==============================] - 73s 3s/step - loss: 95.6919 - acc: 0.6071 - top_k_categorical_accuracy: 1.0000 - val_loss: 79.3425 - val_acc: 0.6364 - val_top_k_categorical_accuracy: 1.0000\n",
      "Epoch 2/5\n",
      "28/28 [==============================] - 5s 179ms/step - loss: 67.8748 - acc: 0.4643 - top_k_categorical_accuracy: 1.0000 - val_loss: 54.9793 - val_acc: 0.6364 - val_top_k_categorical_accuracy: 1.0000\n",
      "Epoch 3/5\n",
      "28/28 [==============================] - 5s 166ms/step - loss: 46.1528 - acc: 0.6429 - top_k_categorical_accuracy: 1.0000 - val_loss: 41.2914 - val_acc: 0.6364 - val_top_k_categorical_accuracy: 1.0000\n",
      "Epoch 4/5\n",
      "28/28 [==============================] - 5s 189ms/step - loss: 33.4688 - acc: 0.7143 - top_k_categorical_accuracy: 1.0000 - val_loss: 30.0100 - val_acc: 0.6364 - val_top_k_categorical_accuracy: 1.0000\n",
      "Epoch 5/5\n",
      "28/28 [==============================] - 6s 218ms/step - loss: 25.9275 - acc: 0.8214 - top_k_categorical_accuracy: 1.0000 - val_loss: 24.7150 - val_acc: 0.6364 - val_top_k_categorical_accuracy: 1.0000\n"
     ]
    },
    {
     "name": "stderr",
     "output_type": "stream",
     "text": [
      "\n",
      "AttributeError: 'ScopedTFStatus' object has no attribute 'status'\n"
     ]
    }
   ],
   "source": [
    "from keras.callbacks import TensorBoard\n",
    "\n",
    "tb = TensorBoard(histogram_freq=0,\n",
    "                 write_graph=True,\n",
    "                 write_grads=False,\n",
    "                 write_images=True)\n",
    "\n",
    "history = model.fit([XY_train,YZ_train], Y_train, batch_size=3, epochs=5, verbose=1,\n",
    "                    validation_data=([XY_test,YZ_test], Y_test), callbacks=[tb])"
   ]
  },
  {
   "cell_type": "code",
   "execution_count": 315,
   "metadata": {},
   "outputs": [
    {
     "data": {
      "image/png": "[encoded data removed]",
      "text/plain": [
       "<matplotlib.figure.Figure at 0x20192b4aa20>"
      ]
     },
     "metadata": {},
     "output_type": "display_data"
    }
   ],
   "source": [
    "plt.plot(history.history['acc'], label='train')\n",
    "plt.plot(history.history['val_acc'], label='valid')\n",
    "plt.xlabel('Epoch')\n",
    "plt.ylabel('Accuracy')\n",
    "plt.legend()\n",
    "plt.show()"
   ]
  },
  {
   "cell_type": "code",
   "execution_count": 316,
   "metadata": {},
   "outputs": [
    {
     "data": {
      "image/png": "[encoded data removed]",
      "text/plain": [
       "<matplotlib.figure.Figure at 0x20192a8a1d0>"
      ]
     },
     "metadata": {},
     "output_type": "display_data"
    }
   ],
   "source": [
    "plt.plot(history.history['loss'], label='train')\n",
    "plt.plot(history.history['val_loss'], label='valid')\n",
    "plt.xlabel('Epoch')\n",
    "plt.ylabel('Cross-Entropy Loss')\n",
    "plt.legend()\n",
    "plt.show()"
   ]
  },
  {
   "cell_type": "markdown",
   "metadata": {},
   "source": [
    "# ResNet"
   ]
  },
  {
   "cell_type": "code",
   "execution_count": 330,
   "metadata": {},
   "outputs": [],
   "source": [
    "X_train=XY_train\n",
    "X_test=XY_test\n",
    "Y2_train=YZ_train\n",
    "Y2_test=YZ_test\n",
    "\n",
    "X_train=np.transpose(X_train,(0,2,3,1))\n",
    "X_test=np.transpose(X_test,(0,2,3,1))\n",
    "\n",
    "Y2_train=np.transpose(Y2_train,(0,2,3,1))\n",
    "Y2_test=np.transpose(Y2_test,(0,2,3,1))\n"
   ]
  },
  {
   "cell_type": "markdown",
   "metadata": {},
   "source": [
    "We are reshaping input dimensions here. Not suitable for the CVN."
   ]
  },
  {
   "cell_type": "code",
   "execution_count": 350,
   "metadata": {},
   "outputs": [],
   "source": [
    "X1_train=np.transpose(X1_train,(0,2,3,1))\n",
    "X1_test=np.transpose(X1_test,(0,2,3,1))\n",
    "\n",
    "X2_train=np.transpose(X2_train,(0,2,3,1))\n",
    "X2_test=np.transpose(X2_test,(0,2,3,1))"
   ]
  },
  {
   "cell_type": "code",
   "execution_count": 363,
   "metadata": {},
   "outputs": [
    {
     "data": {
      "text/plain": [
       "(60245, 3)"
      ]
     },
     "execution_count": 363,
     "metadata": {},
     "output_type": "execute_result"
    }
   ],
   "source": [
    "y_train.shape"
   ]
  },
  {
   "cell_type": "code",
   "execution_count": 353,
   "metadata": {},
   "outputs": [],
   "source": [
    "def Unit(x,filters,pool=False):\n",
    "    res = x\n",
    "    if pool:\n",
    "        x = MaxPooling2D(pool_size=(2, 2))(x)\n",
    "        res = Conv2D(filters=filters,kernel_size=[1,1],strides=(2,2),padding=\"same\")(res)\n",
    "        \n",
    "    out = BatchNormalization()(x)\n",
    "    out = Activation(\"relu\")(out)\n",
    "    out = Conv2D(filters=filters, kernel_size=[3,3], strides=[1, 1], padding=\"same\")(out)\n",
    "\n",
    "    out = BatchNormalization()(out)\n",
    "    out = Activation(\"relu\")(out)\n",
    "    out = Conv2D(filters=filters, kernel_size=[3, 3], strides=[1, 1], padding=\"same\")(out)\n",
    "\n",
    "    out = keras.layers.add([res,out])\n",
    "\n",
    "    return out\n",
    "def MiniModel(num_classes):\n",
    "    #images = Input(shape=(1, 100,80), dtype='float32', name='images')\n",
    "    images1 = Input(shape=(100,80,1), dtype='float32', name='images1')\n",
    "    images2 = Input(shape=(100,80,1), dtype='float32', name='images2')\n",
    "    \n",
    "    net1 = Conv2D(filters=32, kernel_size=[3, 3], strides=[1, 1], padding=\"same\")(images1)\n",
    "    \n",
    "    net1 = Unit(net1,32)\n",
    "    #net1 = Unit(net1,32)\n",
    "    #net1 = Unit(net1,32)\n",
    "\n",
    "    net1 = Unit(net1,64,pool=True)\n",
    "    #net1 = Unit(net1,64)\n",
    "    #net1 = Unit(net1,64)\n",
    "   \n",
    "    \n",
    "    net2 = Conv2D(filters=32, kernel_size=[3, 3], strides=[1, 1], padding=\"same\")(images2)\n",
    "    \n",
    "    net2 = Unit(net2,32)\n",
    "    #net2 = Unit(net2,32)\n",
    "    #net2 = Unit(net2,32)\n",
    "\n",
    "    net2 = Unit(net2,64,pool=True)\n",
    "    #net2 = Unit(net2,64)\n",
    "    #net2 = Unit(net2,64)\n",
    "    \n",
    "\n",
    "   # net = Unit(net,128,pool=True)\n",
    "   # net = Unit(net,128)\n",
    "   # net = Unit(net,128)\n",
    "\n",
    "   # net = Unit(net, 256)\n",
    "   # net = Unit(net, 256)\n",
    "   # net = Unit(net, 256)\n",
    "\n",
    "\n",
    "\n",
    "\n",
    "    \n",
    "    net = concatenate([net1, net2])\n",
    "    \n",
    "    net = Unit(net,64,pool=True)\n",
    "    net = Unit(net,64)\n",
    "    #net = Unit(net,64)\n",
    "       \n",
    "\n",
    "\n",
    "    net = AveragePooling2D(pool_size=(2,2))(net)\n",
    "    net = Flatten()(net)\n",
    "    net = Dense(1024, activation='relu')(net)\n",
    "    net = Dense(num_classes, activation='softmax', name='out')(net)\n",
    "    model = Model(inputs=[images1, images2], outputs=net)\n",
    "\n",
    "    #model = Model(inputs=images,outputs=net)\n",
    "\n",
    "    return model"
   ]
  },
  {
   "cell_type": "code",
   "execution_count": 354,
   "metadata": {},
   "outputs": [],
   "source": [
    "from keras.optimizers import SGD\n",
    "from keras.utils import np_utils\n",
    "\n",
    "\n",
    "model = MiniModel(3)\n",
    "learning_rate = 0.02\n",
    "decay_rate = 0.1\n",
    "momentum = 0.9\n",
    "opt = SGD(lr=learning_rate, momentum=momentum, decay=decay_rate, nesterov=False)\n",
    "model.compile(loss='categorical_crossentropy',optimizer=opt,metrics=['acc'])\n"
   ]
  },
  {
   "cell_type": "code",
   "execution_count": null,
   "metadata": {},
   "outputs": [],
   "source": [
    "from keras.callbacks import TensorBoard\n",
    "\n",
    "tb = TensorBoard(histogram_freq=0,\n",
    "                 write_graph=True,\n",
    "                 write_grads=False,\n",
    "                 write_images=True)\n",
    "\n",
    "history = model.fit([X1_train,X2_train], y_train, batch_size=50, epochs=5, verbose=1,\n",
    "                    validation_data=([X1_test,X2_test], y_test), callbacks=[tb])\n",
    "\n",
    "from keras.models import load_model\n",
    "\n",
    "model.save('model_shallowResNet.h5')"
   ]
  },
  {
   "cell_type": "markdown",
   "metadata": {},
   "source": [
    "# Classification Metrics"
   ]
  },
  {
   "cell_type": "code",
   "execution_count": 235,
   "metadata": {},
   "outputs": [],
   "source": [
    "from sklearn.metrics import confusion_matrix, roc_auc_score, accuracy_score, precision_score, recall_score, f1_score\n",
    "\n",
    "def classification_metrics(y_true, y_pred, y_prob):\n",
    "    cm_dict = {}\n",
    "    cm_dict['Accuracy'] = accuracy_score(y_true, y_pred)\n",
    "    cm_dict['Precision'] =  precision_score(y_true, y_pred, average=None)\n",
    "    cm_dict['Recall'] =  recall_score(y_true, y_pred, average=None)\n",
    "    cm_dict['F1'] =  f1_score(y_true, y_pred, average=None) \n",
    "    #cm_dict['AUC'] = roc_auc_score(y_true, y_prob[:,0])\n",
    "    cm_dict['Confusion Matrix'] = confusion_matrix(y_true, y_pred).tolist()\n",
    "    return cm_dict"
   ]
  },
  {
   "cell_type": "code",
   "execution_count": 236,
   "metadata": {},
   "outputs": [],
   "source": [
    "import itertools\n",
    "\n",
    "def plot_confusion_matrix(cm, classes, normalize=False, title='Confusion matrix', cmap=plt.cm.Blues):\n",
    "    \"\"\"Plots a confusion matrix.\n",
    "    Source: http://scikit-learn.org/stable/auto_examples/model_selection/plot_confusion_matrix.html\n",
    "    New BSD License - see appendix\n",
    "    \"\"\"\n",
    "    cm_max = cm.max()\n",
    "    cm_min = cm.min()\n",
    "    if cm_min > 0: cm_min = 0\n",
    "    if normalize:\n",
    "        cm = cm.astype('float') / cm.sum(axis=1)[:, np.newaxis]\n",
    "        cm_max = 1\n",
    "    plt.imshow(cm, interpolation='nearest', cmap=cmap)\n",
    "    plt.title(title)\n",
    "    plt.colorbar()\n",
    "    tick_marks = np.arange(len(classes))\n",
    "    plt.xticks(tick_marks, classes, rotation=45)\n",
    "    plt.yticks(tick_marks, classes)\n",
    "    thresh = cm_max / 2.\n",
    "    plt.clim(cm_min, cm_max)\n",
    "\n",
    "    for i, j in itertools.product(range(cm.shape[0]), range(cm.shape[1])):\n",
    "        plt.text(j, i,\n",
    "                 round(cm[i, j], 3),  # round to 3 decimals if they are float\n",
    "                 horizontalalignment=\"center\",\n",
    "                 color=\"white\" if cm[i, j] > thresh else \"black\")\n",
    "    plt.ylabel('True label')\n",
    "    plt.xlabel('Predicted label')\n",
    "    plt.show()"
   ]
  },
  {
   "cell_type": "code",
   "execution_count": 338,
   "metadata": {},
   "outputs": [
    {
     "name": "stderr",
     "output_type": "stream",
     "text": [
      "c:\\users\\user\\appdata\\local\\programs\\python\\python35\\lib\\site-packages\\sklearn\\metrics\\classification.py:1135: UndefinedMetricWarning: Precision is ill-defined and being set to 0.0 in labels with no predicted samples.\n",
      "  'precision', 'predicted', average, warn_for)\n",
      "c:\\users\\user\\appdata\\local\\programs\\python\\python35\\lib\\site-packages\\sklearn\\metrics\\classification.py:1135: UndefinedMetricWarning: F-score is ill-defined and being set to 0.0 in labels with no predicted samples.\n",
      "  'precision', 'predicted', average, warn_for)\n"
     ]
    },
    {
     "name": "stdout",
     "output_type": "stream",
     "text": [
      "[[ 0.  0.  1.]\n",
      " [ 0.  0.  1.]\n",
      " [ 0.  0.  1.]\n",
      " [ 0.  0.  1.]\n",
      " [ 0.  0.  1.]\n",
      " [ 0.  0.  1.]\n",
      " [ 0.  0.  1.]\n",
      " [ 0.  0.  1.]\n",
      " [ 0.  0.  1.]\n",
      " [ 0.  0.  1.]\n",
      " [ 0.  0.  1.]]\n",
      "[2 2 2 2 2 2 2 2 2 2 2]\n",
      "[2 2 2 2 2 2 2 0 0 0 1]\n"
     ]
    }
   ],
   "source": [
    "from numpy import argmax\n",
    "\n",
    "#y_probs = model.predict([XY_test,YZ_test])\n",
    "y_probs = model.predict([X_test,Y2_test])\n",
    "y_prob_max = np.argmax(y_probs, 1)\n",
    "y_test_max = np.argmax(Y_test, 1)\n",
    "cm_dict = classification_metrics(y_test_max, y_prob_max, y_probs)\n",
    "\n",
    "\n",
    "print(y_probs)\n",
    "print(y_prob_max)\n",
    "print(y_test_max)"
   ]
  },
  {
   "cell_type": "code",
   "execution_count": 216,
   "metadata": {},
   "outputs": [
    {
     "name": "stdout",
     "output_type": "stream",
     "text": [
      "F1 [ 0.          0.          0.77777778]\n",
      "Accuracy 0.636363636364\n",
      "Precision [ 0.          0.          0.63636364]\n",
      "Confusion Matrix [[0, 0, 3], [0, 0, 1], [0, 0, 7]]\n",
      "Recall [ 0.  0.  1.]\n"
     ]
    }
   ],
   "source": [
    "for m in cm_dict:\n",
    "    print(m, cm_dict[m])"
   ]
  },
  {
   "cell_type": "code",
   "execution_count": 238,
   "metadata": {},
   "outputs": [
    {
     "data": {
      "image/png": "[encoded data removed]",
      "text/plain": [
       "<matplotlib.figure.Figure at 0x20114a08940>"
      ]
     },
     "metadata": {},
     "output_type": "display_data"
    }
   ],
   "source": [
    "cm = np.asarray(cm_dict['Confusion Matrix'])\n",
    "plot_confusion_matrix(cm, ['numu','nue','cosmic'], normalize=False)"
   ]
  },
  {
   "cell_type": "code",
   "execution_count": 239,
   "metadata": {},
   "outputs": [
    {
     "data": {
      "image/png": "[encoded data removed]",
      "text/plain": [
       "<matplotlib.figure.Figure at 0x2013c301630>"
      ]
     },
     "metadata": {},
     "output_type": "display_data"
    }
   ],
   "source": [
    "plt.plot(history.history['acc'], label='train')\n",
    "plt.plot(history.history['val_acc'], label='valid')\n",
    "plt.xlabel('Epoch')\n",
    "plt.ylabel('Accuracy')\n",
    "plt.legend()\n",
    "plt.show()"
   ]
  },
  {
   "cell_type": "code",
   "execution_count": 240,
   "metadata": {},
   "outputs": [
    {
     "data": {
      "image/png": "[encoded data removed]",
      "text/plain": [
       "<matplotlib.figure.Figure at 0x2013c265438>"
      ]
     },
     "metadata": {},
     "output_type": "display_data"
    }
   ],
   "source": [
    "plt.plot(history.history['loss'], label='train')\n",
    "plt.plot(history.history['val_loss'], label='valid')\n",
    "plt.xlabel('Epoch')\n",
    "plt.ylabel('Cross-Entropy Loss')\n",
    "plt.legend()\n",
    "plt.show()"
   ]
  },
  {
   "cell_type": "code",
   "execution_count": 294,
   "metadata": {},
   "outputs": [],
   "source": [
    "i_tr= np.where(Y_train == 1)\n",
    "i_ts= np.where(Y_test == 1)"
   ]
  },
  {
   "cell_type": "code",
   "execution_count": 323,
   "metadata": {},
   "outputs": [
    {
     "data": {
      "text/plain": [
       "array([[ 0.,  0.,  1.],\n",
       "       [ 0.,  0.,  1.],\n",
       "       [ 0.,  0.,  1.],\n",
       "       [ 0.,  0.,  1.],\n",
       "       [ 0.,  0.,  1.],\n",
       "       [ 0.,  0.,  1.],\n",
       "       [ 0.,  0.,  1.],\n",
       "       [ 1.,  0.,  0.],\n",
       "       [ 1.,  0.,  0.],\n",
       "       [ 1.,  0.,  0.],\n",
       "       [ 0.,  1.,  0.]])"
      ]
     },
     "execution_count": 323,
     "metadata": {},
     "output_type": "execute_result"
    }
   ],
   "source": [
    "Y_test"
   ]
  },
  {
   "cell_type": "code",
   "execution_count": 324,
   "metadata": {},
   "outputs": [
    {
     "data": {
      "text/plain": [
       "array([[ 0.00196199,  0.00122139,  0.99681669],\n",
       "       [ 0.00223964,  0.00139562,  0.99636477],\n",
       "       [ 0.00225844,  0.00140532,  0.99633622]], dtype=float32)"
      ]
     },
     "execution_count": 324,
     "metadata": {},
     "output_type": "execute_result"
    }
   ],
   "source": [
    "Classifier_testing_0"
   ]
  },
  {
   "cell_type": "code",
   "execution_count": 302,
   "metadata": {},
   "outputs": [],
   "source": [
    "Classifier_training_0 = model.predict([X_train[i_tr[1]==0],Y2_train[i_tr[1]==0]])\n",
    "Classifier_testing_0 = model.predict([X_test[i_ts[1]==0],Y2_test[i_ts[1]==0]])\n",
    "\n",
    "Classifier_training_1 = model.predict([X_train[i_tr[1]==1],Y2_train[i_tr[1]==1]])\n",
    "Classifier_testing_1 = model.predict([X_test[i_ts[1]==1],Y2_test[i_ts[1]==1]])\n",
    "\n",
    "Classifier_training_2 = model.predict([X_train[i_tr[1]==2],Y2_train[i_tr[1]==2]])\n",
    "Classifier_testing_2 = model.predict([X_test[i_ts[1]==2],Y2_test[i_ts[1]==2]])"
   ]
  },
  {
   "cell_type": "code",
   "execution_count": 318,
   "metadata": {},
   "outputs": [],
   "source": [
    "Classifier_training_0 = model.predict([XY_train[i_tr[1]==0],YZ_train[i_tr[1]==0]])\n",
    "Classifier_testing_0 = model.predict([XY_test[i_ts[1]==0],YZ_test[i_ts[1]==0]])\n",
    "\n",
    "Classifier_training_1 = model.predict([XY_train[i_tr[1]==1],YZ_train[i_tr[1]==1]])\n",
    "Classifier_testing_1 = model.predict([XY_test[i_ts[1]==1],YZ_test[i_ts[1]==1]])\n",
    "\n",
    "Classifier_training_2 = model.predict([XY_train[i_tr[1]==2],YZ_train[i_tr[1]==2]])\n",
    "Classifier_testing_2 = model.predict([XY_test[i_ts[1]==2],YZ_test[i_ts[1]==2]])"
   ]
  },
  {
   "cell_type": "code",
   "execution_count": 319,
   "metadata": {},
   "outputs": [],
   "source": [
    "c_max = 1\n",
    "c_min = 0\n",
    "\n",
    "Histo_training_0 = np.histogram(Classifier_training_0, bins=10, range=(c_min, c_max),density=True)\n",
    "Histo_testing_0 = np.histogram(Classifier_testing_0,bins=10,range=(c_min,c_max),density=True)\n",
    "\n",
    "Histo_training_1 = np.histogram(Classifier_training_1, bins=10, range=(c_min, c_max),density=True)\n",
    "Histo_testing_1 = np.histogram(Classifier_testing_1,bins=10,range=(c_min,c_max),density=True)\n",
    "\n",
    "Histo_training_2 = np.histogram(Classifier_training_2, bins=10, range=(c_min, c_max),density=True)\n",
    "Histo_testing_2 = np.histogram(Classifier_testing_2,bins=10,range=(c_min,c_max),density=True)"
   ]
  },
  {
   "cell_type": "code",
   "execution_count": 320,
   "metadata": {},
   "outputs": [],
   "source": [
    "AllHistos = [Histo_training_0, Histo_testing_0]\n",
    "h_max = max([histo[0].max() for histo in AllHistos]) * 1.2\n",
    "h_min = max([histo[0].min() for histo in AllHistos])\n",
    "\n",
    "bin_edges = Histo_training_0[1]\n",
    "bin_centers = (bin_edges[:-1] + bin_edges[1:]) / 2.\n",
    "bin_widths = (bin_edges[1:] - bin_edges[:-1])"
   ]
  },
  {
   "cell_type": "code",
   "execution_count": 321,
   "metadata": {},
   "outputs": [
    {
     "data": {
      "image/png": "[encoded data removed]",
      "text/plain": [
       "<matplotlib.figure.Figure at 0x20192b51c50>"
      ]
     },
     "metadata": {},
     "output_type": "display_data"
    }
   ],
   "source": [
    "ax1 = plt.subplot(111)\n",
    "ax1.bar(bin_centers, Histo_training_0[0], facecolor='red', linewidth=0, width=bin_widths,\n",
    "        label='$\\omega_b$ (Train)', alpha=0.2)\n",
    "\n",
    "ax1.errorbar(bin_centers, Histo_testing_0[0],  xerr=None, ecolor='red', c='red', fmt='o',\n",
    "             label='$\\omega_s$ (Test)')\n",
    "\n",
    "ax1.bar(bin_centers , Histo_training_1[0], facecolor='blue', linewidth=0, width=bin_widths,\n",
    "        label='$\\omega_b$ (Train)', alpha=0.2)\n",
    "\n",
    "ax1.errorbar(bin_centers, Histo_testing_1[0],  xerr=None, ecolor='blue', c='blue', fmt='o',\n",
    "             label='$\\omega_s$ (Test)')\n",
    "\n",
    "ax1.bar(bin_centers , Histo_training_2[0], facecolor='black', linewidth=0, width=bin_widths,\n",
    "        label='$\\omega_b$ (Train)', alpha=0.2)\n",
    "\n",
    "ax1.errorbar(bin_centers, Histo_testing_2[0],  xerr=None, ecolor='black', c='black', fmt='o',\n",
    "             label='$\\omega_s$ (Test)')\n",
    "\n",
    "plt.show()"
   ]
  }
 ],
 "metadata": {
  "kernelspec": {
   "display_name": "Python 3",
   "language": "python",
   "name": "python3"
  },
  "language_info": {
   "codemirror_mode": {
    "name": "ipython",
    "version": 3
   },
   "file_extension": ".py",
   "mimetype": "text/x-python",
   "name": "python",
   "nbconvert_exporter": "python",
   "pygments_lexer": "ipython3",
   "version": "3.5.2"
  }
 },
 "nbformat": 4,
 "nbformat_minor": 2
}
